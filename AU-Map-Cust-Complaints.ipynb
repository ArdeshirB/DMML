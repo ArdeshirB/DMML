{
  "nbformat": 4,
  "nbformat_minor": 0,
  "metadata": {
    "colab": {
      "provenance": [],
      "authorship_tag": "ABX9TyOfi+ZEPCIbJkkODqv9nSzz",
      "include_colab_link": true
    },
    "kernelspec": {
      "name": "python3",
      "display_name": "Python 3"
    },
    "language_info": {
      "name": "python"
    },
    "widgets": {
      "application/vnd.jupyter.widget-state+json": {
        "ac4b3017048742888231c426064390e5": {
          "model_module": "@jupyter-widgets/controls",
          "model_name": "VBoxModel",
          "model_module_version": "1.5.0",
          "state": {
            "_dom_classes": [
              "widget-interact"
            ],
            "_model_module": "@jupyter-widgets/controls",
            "_model_module_version": "1.5.0",
            "_model_name": "VBoxModel",
            "_view_count": null,
            "_view_module": "@jupyter-widgets/controls",
            "_view_module_version": "1.5.0",
            "_view_name": "VBoxView",
            "box_style": "",
            "children": [
              "IPY_MODEL_f8f88a3a537341da921954c414ae9514",
              "IPY_MODEL_ad9f9e24f3214f5e8b37ed3c746ae5a7",
              "IPY_MODEL_9283790eca9541deadd6f33e91b1ecef"
            ],
            "layout": "IPY_MODEL_8d7b277fbdf44aea9d53ebe6e256dbc4"
          }
        },
        "f8f88a3a537341da921954c414ae9514": {
          "model_module": "@jupyter-widgets/controls",
          "model_name": "SelectModel",
          "model_module_version": "1.5.0",
          "state": {
            "_dom_classes": [],
            "_model_module": "@jupyter-widgets/controls",
            "_model_module_version": "1.5.0",
            "_model_name": "SelectModel",
            "_options_labels": [
              "44963",
              "44964",
              "44978",
              "44979",
              "44981",
              "44982",
              "44985",
              "44987",
              "44988",
              "44989",
              "44992",
              "44993",
              "44998",
              "45003",
              "45005",
              "45006",
              "45008",
              "45009",
              "45010",
              "45011",
              "45012",
              "45015",
              "45016",
              "45017",
              "45019",
              "45021",
              "45025",
              "45024",
              "45023",
              "45027",
              "45029",
              "45033",
              "45050",
              "45047",
              "45048",
              "45049",
              "45052",
              "45053",
              "45055",
              "45056",
              "45057",
              "45058",
              "45061",
              "45063",
              "45064",
              "45068",
              "45070",
              "45071",
              "45072",
              "45073",
              "45075",
              "45076",
              "45078",
              "45081",
              "45083",
              "45085",
              "45087",
              "45090",
              "45091",
              "45092",
              "45094",
              "45095"
            ],
            "_view_count": null,
            "_view_module": "@jupyter-widgets/controls",
            "_view_module_version": "1.5.0",
            "_view_name": "SelectView",
            "description": "date_filter",
            "description_tooltip": null,
            "disabled": false,
            "index": 0,
            "layout": "IPY_MODEL_411acea9a4bd403484f4808f08dd9ca9",
            "rows": 5,
            "style": "IPY_MODEL_aed70ffd93824ce7bdd135bdb3d44968"
          }
        },
        "ad9f9e24f3214f5e8b37ed3c746ae5a7": {
          "model_module": "@jupyter-widgets/controls",
          "model_name": "SelectModel",
          "model_module_version": "1.5.0",
          "state": {
            "_dom_classes": [],
            "_model_module": "@jupyter-widgets/controls",
            "_model_module_version": "1.5.0",
            "_model_name": "SelectModel",
            "_options_labels": [
              "Seal Integrity",
              "Recipe Control",
              "Missing stock"
            ],
            "_view_count": null,
            "_view_module": "@jupyter-widgets/controls",
            "_view_module_version": "1.5.0",
            "_view_name": "SelectView",
            "description": "complaint_filter",
            "description_tooltip": null,
            "disabled": false,
            "index": 0,
            "layout": "IPY_MODEL_64b4c8209ac44e1ba0b0612bd4f14f3d",
            "rows": 5,
            "style": "IPY_MODEL_c7835a124fb04a4aa99d4ac6b0bd5913"
          }
        },
        "9283790eca9541deadd6f33e91b1ecef": {
          "model_module": "@jupyter-widgets/output",
          "model_name": "OutputModel",
          "model_module_version": "1.0.0",
          "state": {
            "_dom_classes": [],
            "_model_module": "@jupyter-widgets/output",
            "_model_module_version": "1.0.0",
            "_model_name": "OutputModel",
            "_view_count": null,
            "_view_module": "@jupyter-widgets/output",
            "_view_module_version": "1.0.0",
            "_view_name": "OutputView",
            "layout": "IPY_MODEL_6a1ca393b8134726801b690862bf6bac",
            "msg_id": "",
            "outputs": [
              {
                "output_type": "stream",
                "name": "stderr",
                "text": [
                  "<ipython-input-1-1ae91a07233a>:162: UserWarning: color argument of Icon should be one of: {'lightred', 'black', 'orange', 'darkred', 'white', 'lightgray', 'beige', 'red', 'gray', 'cadetblue', 'darkgreen', 'lightgreen', 'lightblue', 'darkblue', 'pink', 'purple', 'darkpurple', 'blue', 'green'}.\n",
                  "  icon=folium.Icon(color=color)\n"
                ]
              },
              {
                "output_type": "display_data",
                "data": {
                  "text/plain": "<folium.folium.Map at 0x7ff6e1bf9780>",
                  "text/html": "<div style=\"width:100%;\"><div style=\"position:relative;width:100%;height:0;padding-bottom:60%;\"><span style=\"color:#565656\">Make this Notebook Trusted to load map: File -> Trust Notebook</span><iframe srcdoc=\"&lt;!DOCTYPE html&gt;\n&lt;html&gt;\n&lt;head&gt;\n    \n    &lt;meta http-equiv=&quot;content-type&quot; content=&quot;text/html; charset=UTF-8&quot; /&gt;\n    \n        &lt;script&gt;\n            L_NO_TOUCH = false;\n            L_DISABLE_3D = false;\n        &lt;/script&gt;\n    \n    &lt;style&gt;html, body {width: 100%;height: 100%;margin: 0;padding: 0;}&lt;/style&gt;\n    &lt;style&gt;#map {position:absolute;top:0;bottom:0;right:0;left:0;}&lt;/style&gt;\n    &lt;script src=&quot;https://cdn.jsdelivr.net/npm/leaflet@1.9.3/dist/leaflet.js&quot;&gt;&lt;/script&gt;\n    &lt;script src=&quot;https://code.jquery.com/jquery-1.12.4.min.js&quot;&gt;&lt;/script&gt;\n    &lt;script src=&quot;https://cdn.jsdelivr.net/npm/bootstrap@5.2.2/dist/js/bootstrap.bundle.min.js&quot;&gt;&lt;/script&gt;\n    &lt;script src=&quot;https://cdnjs.cloudflare.com/ajax/libs/Leaflet.awesome-markers/2.0.2/leaflet.awesome-markers.js&quot;&gt;&lt;/script&gt;\n    &lt;link rel=&quot;stylesheet&quot; href=&quot;https://cdn.jsdelivr.net/npm/leaflet@1.9.3/dist/leaflet.css&quot;/&gt;\n    &lt;link rel=&quot;stylesheet&quot; href=&quot;https://cdn.jsdelivr.net/npm/bootstrap@5.2.2/dist/css/bootstrap.min.css&quot;/&gt;\n    &lt;link rel=&quot;stylesheet&quot; href=&quot;https://netdna.bootstrapcdn.com/bootstrap/3.0.0/css/bootstrap.min.css&quot;/&gt;\n    &lt;link rel=&quot;stylesheet&quot; href=&quot;https://cdn.jsdelivr.net/npm/@fortawesome/fontawesome-free@6.2.0/css/all.min.css&quot;/&gt;\n    &lt;link rel=&quot;stylesheet&quot; href=&quot;https://cdnjs.cloudflare.com/ajax/libs/Leaflet.awesome-markers/2.0.2/leaflet.awesome-markers.css&quot;/&gt;\n    &lt;link rel=&quot;stylesheet&quot; href=&quot;https://cdn.jsdelivr.net/gh/python-visualization/folium/folium/templates/leaflet.awesome.rotate.min.css&quot;/&gt;\n    \n            &lt;meta name=&quot;viewport&quot; content=&quot;width=device-width,\n                initial-scale=1.0, maximum-scale=1.0, user-scalable=no&quot; /&gt;\n            &lt;style&gt;\n                #map_b52b494c6f241889684d6d78f412c0cd {\n                    position: relative;\n                    width: 100.0%;\n                    height: 100.0%;\n                    left: 0.0%;\n                    top: 0.0%;\n                }\n                .leaflet-container { font-size: 1rem; }\n            &lt;/style&gt;\n        \n&lt;/head&gt;\n&lt;body&gt;\n    \n    \n            &lt;div class=&quot;folium-map&quot; id=&quot;map_b52b494c6f241889684d6d78f412c0cd&quot; &gt;&lt;/div&gt;\n        \n&lt;/body&gt;\n&lt;script&gt;\n    \n    \n            var map_b52b494c6f241889684d6d78f412c0cd = L.map(\n                &quot;map_b52b494c6f241889684d6d78f412c0cd&quot;,\n                {\n                    center: [-24.396308, 133.745896],\n                    crs: L.CRS.EPSG3857,\n                    zoom: 4,\n                    zoomControl: true,\n                    preferCanvas: false,\n                }\n            );\n\n            \n\n        \n    \n            var tile_layer_b33b83a1ce88244387d8b6f576e09788 = L.tileLayer(\n                &quot;https://{s}.tile.openstreetmap.org/{z}/{x}/{y}.png&quot;,\n                {&quot;attribution&quot;: &quot;Data by \\u0026copy; \\u003ca target=\\&quot;_blank\\&quot; href=\\&quot;http://openstreetmap.org\\&quot;\\u003eOpenStreetMap\\u003c/a\\u003e, under \\u003ca target=\\&quot;_blank\\&quot; href=\\&quot;http://www.openstreetmap.org/copyright\\&quot;\\u003eODbL\\u003c/a\\u003e.&quot;, &quot;detectRetina&quot;: false, &quot;maxNativeZoom&quot;: 18, &quot;maxZoom&quot;: 18, &quot;minZoom&quot;: 0, &quot;noWrap&quot;: false, &quot;opacity&quot;: 1, &quot;subdomains&quot;: &quot;abc&quot;, &quot;tms&quot;: false}\n            ).addTo(map_b52b494c6f241889684d6d78f412c0cd);\n        \n    \n            var marker_4d56ff6288d6489cf0181a00d49f8d71 = L.marker(\n                [-37.8267, 145.036],\n                {}\n            ).addTo(map_b52b494c6f241889684d6d78f412c0cd);\n        \n    \n            var icon_f52b62ae9d69d2be6029ab7c711dd808 = L.AwesomeMarkers.icon(\n                {&quot;extraClasses&quot;: &quot;fa-rotate-0&quot;, &quot;icon&quot;: &quot;info-sign&quot;, &quot;iconColor&quot;: &quot;white&quot;, &quot;markerColor&quot;: &quot;#000000&quot;, &quot;prefix&quot;: &quot;glyphicon&quot;}\n            );\n            marker_4d56ff6288d6489cf0181a00d49f8d71.setIcon(icon_f52b62ae9d69d2be6029ab7c711dd808);\n        \n    \n        var popup_3fa1a48a2f1abe9a7e339eed3995f81a = L.popup({&quot;maxWidth&quot;: &quot;100%&quot;});\n\n        \n            \n                var html_09cd5ad5239b82375e7b56c743eec76e = $(`&lt;div id=&quot;html_09cd5ad5239b82375e7b56c743eec76e&quot; style=&quot;width: 100.0%; height: 100.0%;&quot;&gt;Suburb: Hawthorn&lt;br&gt;Complaint Count: nan&lt;/div&gt;`)[0];\n                popup_3fa1a48a2f1abe9a7e339eed3995f81a.setContent(html_09cd5ad5239b82375e7b56c743eec76e);\n            \n        \n\n        marker_4d56ff6288d6489cf0181a00d49f8d71.bindPopup(popup_3fa1a48a2f1abe9a7e339eed3995f81a)\n        ;\n\n        \n    \n    \n            var marker_b58dda893dc44ecfc3079a81412c2938 = L.marker(\n                [-27.4949, 153.0617],\n                {}\n            ).addTo(map_b52b494c6f241889684d6d78f412c0cd);\n        \n    \n            var icon_23c23980beacbba24f52d2873981a90f = L.AwesomeMarkers.icon(\n                {&quot;extraClasses&quot;: &quot;fa-rotate-0&quot;, &quot;icon&quot;: &quot;info-sign&quot;, &quot;iconColor&quot;: &quot;white&quot;, &quot;markerColor&quot;: &quot;#000000&quot;, &quot;prefix&quot;: &quot;glyphicon&quot;}\n            );\n            marker_b58dda893dc44ecfc3079a81412c2938.setIcon(icon_23c23980beacbba24f52d2873981a90f);\n        \n    \n        var popup_71566639313574ad1786fe1d526b777c = L.popup({&quot;maxWidth&quot;: &quot;100%&quot;});\n\n        \n            \n                var html_3fed07e4b2b4a795aab8aa92a62d90fb = $(`&lt;div id=&quot;html_3fed07e4b2b4a795aab8aa92a62d90fb&quot; style=&quot;width: 100.0%; height: 100.0%;&quot;&gt;Suburb: Coorparoo&lt;br&gt;Complaint Count: 1.0&lt;/div&gt;`)[0];\n                popup_71566639313574ad1786fe1d526b777c.setContent(html_3fed07e4b2b4a795aab8aa92a62d90fb);\n            \n        \n\n        marker_b58dda893dc44ecfc3079a81412c2938.bindPopup(popup_71566639313574ad1786fe1d526b777c)\n        ;\n\n        \n    \n    \n            var marker_0541fb481194c1fa1b4ae7690a2b2c3b = L.marker(\n                [-27.3394, 152.9531],\n                {}\n            ).addTo(map_b52b494c6f241889684d6d78f412c0cd);\n        \n    \n            var icon_d39704d61a8e9746654912e0dbd0c5b7 = L.AwesomeMarkers.icon(\n                {&quot;extraClasses&quot;: &quot;fa-rotate-0&quot;, &quot;icon&quot;: &quot;info-sign&quot;, &quot;iconColor&quot;: &quot;white&quot;, &quot;markerColor&quot;: &quot;#000000&quot;, &quot;prefix&quot;: &quot;glyphicon&quot;}\n            );\n            marker_0541fb481194c1fa1b4ae7690a2b2c3b.setIcon(icon_d39704d61a8e9746654912e0dbd0c5b7);\n        \n    \n        var popup_0be9463f7c9384956318e51ba9cf2d90 = L.popup({&quot;maxWidth&quot;: &quot;100%&quot;});\n\n        \n            \n                var html_71e98f01783fdc64f4f5baffdb10460b = $(`&lt;div id=&quot;html_71e98f01783fdc64f4f5baffdb10460b&quot; style=&quot;width: 100.0%; height: 100.0%;&quot;&gt;Suburb: Eatons Hill&lt;br&gt;Complaint Count: nan&lt;/div&gt;`)[0];\n                popup_0be9463f7c9384956318e51ba9cf2d90.setContent(html_71e98f01783fdc64f4f5baffdb10460b);\n            \n        \n\n        marker_0541fb481194c1fa1b4ae7690a2b2c3b.bindPopup(popup_0be9463f7c9384956318e51ba9cf2d90)\n        ;\n\n        \n    \n    \n            var marker_5bc6cbbf3098a772ae50eaca74b71a86 = L.marker(\n                [-31.7756, 116.0046],\n                {}\n            ).addTo(map_b52b494c6f241889684d6d78f412c0cd);\n        \n    \n            var icon_5305f5c2723282960daf2e1317d1df15 = L.AwesomeMarkers.icon(\n                {&quot;extraClasses&quot;: &quot;fa-rotate-0&quot;, &quot;icon&quot;: &quot;info-sign&quot;, &quot;iconColor&quot;: &quot;white&quot;, &quot;markerColor&quot;: &quot;#000000&quot;, &quot;prefix&quot;: &quot;glyphicon&quot;}\n            );\n            marker_5bc6cbbf3098a772ae50eaca74b71a86.setIcon(icon_5305f5c2723282960daf2e1317d1df15);\n        \n    \n        var popup_569ed9e6b357c4aeca1b2f6d659b6bf2 = L.popup({&quot;maxWidth&quot;: &quot;100%&quot;});\n\n        \n            \n                var html_77f246e8ccc8781df66eaf1d135542f0 = $(`&lt;div id=&quot;html_77f246e8ccc8781df66eaf1d135542f0&quot; style=&quot;width: 100.0%; height: 100.0%;&quot;&gt;Suburb: Ellenbrook North&lt;br&gt;Complaint Count: nan&lt;/div&gt;`)[0];\n                popup_569ed9e6b357c4aeca1b2f6d659b6bf2.setContent(html_77f246e8ccc8781df66eaf1d135542f0);\n            \n        \n\n        marker_5bc6cbbf3098a772ae50eaca74b71a86.bindPopup(popup_569ed9e6b357c4aeca1b2f6d659b6bf2)\n        ;\n\n        \n    \n    \n            var marker_d333586cdda57941a69345cabe017aa0 = L.marker(\n                [-27.0988, 152.9524],\n                {}\n            ).addTo(map_b52b494c6f241889684d6d78f412c0cd);\n        \n    \n            var icon_ad56e4adf6a8ae79534d5ee8dad1b47a = L.AwesomeMarkers.icon(\n                {&quot;extraClasses&quot;: &quot;fa-rotate-0&quot;, &quot;icon&quot;: &quot;info-sign&quot;, &quot;iconColor&quot;: &quot;white&quot;, &quot;markerColor&quot;: &quot;#000000&quot;, &quot;prefix&quot;: &quot;glyphicon&quot;}\n            );\n            marker_d333586cdda57941a69345cabe017aa0.setIcon(icon_ad56e4adf6a8ae79534d5ee8dad1b47a);\n        \n    \n        var popup_837bfd83792423149ab2e4025456719d = L.popup({&quot;maxWidth&quot;: &quot;100%&quot;});\n\n        \n            \n                var html_fdf7bc6c4a5ab41e746e8692013627c3 = $(`&lt;div id=&quot;html_fdf7bc6c4a5ab41e746e8692013627c3&quot; style=&quot;width: 100.0%; height: 100.0%;&quot;&gt;Suburb: Morayfield&lt;br&gt;Complaint Count: nan&lt;/div&gt;`)[0];\n                popup_837bfd83792423149ab2e4025456719d.setContent(html_fdf7bc6c4a5ab41e746e8692013627c3);\n            \n        \n\n        marker_d333586cdda57941a69345cabe017aa0.bindPopup(popup_837bfd83792423149ab2e4025456719d)\n        ;\n\n        \n    \n    \n            var marker_3e41533beabd46bf727c16c751d6cb8c = L.marker(\n                [-37.8425, 144.8569],\n                {}\n            ).addTo(map_b52b494c6f241889684d6d78f412c0cd);\n        \n    \n            var icon_20a87d82abb135bbe79413d7b8f93d7e = L.AwesomeMarkers.icon(\n                {&quot;extraClasses&quot;: &quot;fa-rotate-0&quot;, &quot;icon&quot;: &quot;info-sign&quot;, &quot;iconColor&quot;: &quot;white&quot;, &quot;markerColor&quot;: &quot;#000000&quot;, &quot;prefix&quot;: &quot;glyphicon&quot;}\n            );\n            marker_3e41533beabd46bf727c16c751d6cb8c.setIcon(icon_20a87d82abb135bbe79413d7b8f93d7e);\n        \n    \n        var popup_ca14453e88598881a6ef5a8661bb0dfc = L.popup({&quot;maxWidth&quot;: &quot;100%&quot;});\n\n        \n            \n                var html_9d96b517e16bb39ac2b523e1ed0f7ab1 = $(`&lt;div id=&quot;html_9d96b517e16bb39ac2b523e1ed0f7ab1&quot; style=&quot;width: 100.0%; height: 100.0%;&quot;&gt;Suburb: Altona North&lt;br&gt;Complaint Count: nan&lt;/div&gt;`)[0];\n                popup_ca14453e88598881a6ef5a8661bb0dfc.setContent(html_9d96b517e16bb39ac2b523e1ed0f7ab1);\n            \n        \n\n        marker_3e41533beabd46bf727c16c751d6cb8c.bindPopup(popup_ca14453e88598881a6ef5a8661bb0dfc)\n        ;\n\n        \n    \n    \n            var marker_1bad038a0e22029e4bb265ea512a64f6 = L.marker(\n                [-16.9186, 145.7781],\n                {}\n            ).addTo(map_b52b494c6f241889684d6d78f412c0cd);\n        \n    \n            var icon_f71f775d4693e5dd8dfb33643fad284b = L.AwesomeMarkers.icon(\n                {&quot;extraClasses&quot;: &quot;fa-rotate-0&quot;, &quot;icon&quot;: &quot;info-sign&quot;, &quot;iconColor&quot;: &quot;white&quot;, &quot;markerColor&quot;: &quot;#000000&quot;, &quot;prefix&quot;: &quot;glyphicon&quot;}\n            );\n            marker_1bad038a0e22029e4bb265ea512a64f6.setIcon(icon_f71f775d4693e5dd8dfb33643fad284b);\n        \n    \n        var popup_2e63f22b45e03c55a5b1df582c5ba389 = L.popup({&quot;maxWidth&quot;: &quot;100%&quot;});\n\n        \n            \n                var html_caea48e3bfc4b72597883f80fd40cca7 = $(`&lt;div id=&quot;html_caea48e3bfc4b72597883f80fd40cca7&quot; style=&quot;width: 100.0%; height: 100.0%;&quot;&gt;Suburb: Cairns&lt;br&gt;Complaint Count: nan&lt;/div&gt;`)[0];\n                popup_2e63f22b45e03c55a5b1df582c5ba389.setContent(html_caea48e3bfc4b72597883f80fd40cca7);\n            \n        \n\n        marker_1bad038a0e22029e4bb265ea512a64f6.bindPopup(popup_2e63f22b45e03c55a5b1df582c5ba389)\n        ;\n\n        \n    \n    \n            var marker_8f97d69e825e9a4f5ea2a99207543bec = L.marker(\n                [-27.2406, 153.0145],\n                {}\n            ).addTo(map_b52b494c6f241889684d6d78f412c0cd);\n        \n    \n            var icon_46395a61fe6a7b85243dda7733d107ed = L.AwesomeMarkers.icon(\n                {&quot;extraClasses&quot;: &quot;fa-rotate-0&quot;, &quot;icon&quot;: &quot;info-sign&quot;, &quot;iconColor&quot;: &quot;white&quot;, &quot;markerColor&quot;: &quot;#000000&quot;, &quot;prefix&quot;: &quot;glyphicon&quot;}\n            );\n            marker_8f97d69e825e9a4f5ea2a99207543bec.setIcon(icon_46395a61fe6a7b85243dda7733d107ed);\n        \n    \n        var popup_c1b36245223793e2c523b53c2d053794 = L.popup({&quot;maxWidth&quot;: &quot;100%&quot;});\n\n        \n            \n                var html_ef036e50903783d20217a9e2e73615dd = $(`&lt;div id=&quot;html_ef036e50903783d20217a9e2e73615dd&quot; style=&quot;width: 100.0%; height: 100.0%;&quot;&gt;Suburb: North Lakes&lt;br&gt;Complaint Count: nan&lt;/div&gt;`)[0];\n                popup_c1b36245223793e2c523b53c2d053794.setContent(html_ef036e50903783d20217a9e2e73615dd);\n            \n        \n\n        marker_8f97d69e825e9a4f5ea2a99207543bec.bindPopup(popup_c1b36245223793e2c523b53c2d053794)\n        ;\n\n        \n    \n    \n            var marker_32f02e9f695174e5790f263fd7591fd0 = L.marker(\n                [-27.4285, 152.9476],\n                {}\n            ).addTo(map_b52b494c6f241889684d6d78f412c0cd);\n        \n    \n            var icon_0eccbf73559a74752113c5b4bfa1ca24 = L.AwesomeMarkers.icon(\n                {&quot;extraClasses&quot;: &quot;fa-rotate-0&quot;, &quot;icon&quot;: &quot;info-sign&quot;, &quot;iconColor&quot;: &quot;white&quot;, &quot;markerColor&quot;: &quot;#000000&quot;, &quot;prefix&quot;: &quot;glyphicon&quot;}\n            );\n            marker_32f02e9f695174e5790f263fd7591fd0.setIcon(icon_0eccbf73559a74752113c5b4bfa1ca24);\n        \n    \n        var popup_204ff0e7bace8993fb5ef272dad2b75d = L.popup({&quot;maxWidth&quot;: &quot;100%&quot;});\n\n        \n            \n                var html_68ea57fcbc874b75c2629e8c6bc5b3b7 = $(`&lt;div id=&quot;html_68ea57fcbc874b75c2629e8c6bc5b3b7&quot; style=&quot;width: 100.0%; height: 100.0%;&quot;&gt;Suburb: Keperra&lt;br&gt;Complaint Count: nan&lt;/div&gt;`)[0];\n                popup_204ff0e7bace8993fb5ef272dad2b75d.setContent(html_68ea57fcbc874b75c2629e8c6bc5b3b7);\n            \n        \n\n        marker_32f02e9f695174e5790f263fd7591fd0.bindPopup(popup_204ff0e7bace8993fb5ef272dad2b75d)\n        ;\n\n        \n    \n    \n            var marker_5f53dad728c1c1e6d917197faf54f381 = L.marker(\n                [-27.4981, 153.0313],\n                {}\n            ).addTo(map_b52b494c6f241889684d6d78f412c0cd);\n        \n    \n            var icon_278d46790847bed3f51ad444a88ff122 = L.AwesomeMarkers.icon(\n                {&quot;extraClasses&quot;: &quot;fa-rotate-0&quot;, &quot;icon&quot;: &quot;info-sign&quot;, &quot;iconColor&quot;: &quot;white&quot;, &quot;markerColor&quot;: &quot;#000000&quot;, &quot;prefix&quot;: &quot;glyphicon&quot;}\n            );\n            marker_5f53dad728c1c1e6d917197faf54f381.setIcon(icon_278d46790847bed3f51ad444a88ff122);\n        \n    \n        var popup_61f8dbf954346f79c715de86026b8557 = L.popup({&quot;maxWidth&quot;: &quot;100%&quot;});\n\n        \n            \n                var html_5d3b46acde18267b11909c0297756669 = $(`&lt;div id=&quot;html_5d3b46acde18267b11909c0297756669&quot; style=&quot;width: 100.0%; height: 100.0%;&quot;&gt;Suburb: Annerley&lt;br&gt;Complaint Count: nan&lt;/div&gt;`)[0];\n                popup_61f8dbf954346f79c715de86026b8557.setContent(html_5d3b46acde18267b11909c0297756669);\n            \n        \n\n        marker_5f53dad728c1c1e6d917197faf54f381.bindPopup(popup_61f8dbf954346f79c715de86026b8557)\n        ;\n\n        \n    \n    \n            var marker_61259f12a929b006670cee08ab185815 = L.marker(\n                [-28.8667, 153.5667],\n                {}\n            ).addTo(map_b52b494c6f241889684d6d78f412c0cd);\n        \n    \n            var icon_a0c890b9489a4db3a9ed8c147391e1da = L.AwesomeMarkers.icon(\n                {&quot;extraClasses&quot;: &quot;fa-rotate-0&quot;, &quot;icon&quot;: &quot;info-sign&quot;, &quot;iconColor&quot;: &quot;white&quot;, &quot;markerColor&quot;: &quot;#000000&quot;, &quot;prefix&quot;: &quot;glyphicon&quot;}\n            );\n            marker_61259f12a929b006670cee08ab185815.setIcon(icon_a0c890b9489a4db3a9ed8c147391e1da);\n        \n    \n        var popup_a449a8db6bd92556c29a37752c99019d = L.popup({&quot;maxWidth&quot;: &quot;100%&quot;});\n\n        \n            \n                var html_4fccfc3bf595f295bb07a43fbc831b89 = $(`&lt;div id=&quot;html_4fccfc3bf595f295bb07a43fbc831b89&quot; style=&quot;width: 100.0%; height: 100.0%;&quot;&gt;Suburb: Ballina&lt;br&gt;Complaint Count: nan&lt;/div&gt;`)[0];\n                popup_a449a8db6bd92556c29a37752c99019d.setContent(html_4fccfc3bf595f295bb07a43fbc831b89);\n            \n        \n\n        marker_61259f12a929b006670cee08ab185815.bindPopup(popup_a449a8db6bd92556c29a37752c99019d)\n        ;\n\n        \n    \n&lt;/script&gt;\n&lt;/html&gt;\" style=\"position:absolute;width:100%;height:100%;left:0;top:0;border:none !important;\" allowfullscreen webkitallowfullscreen mozallowfullscreen></iframe></div></div>"
                },
                "metadata": {}
              }
            ]
          }
        },
        "8d7b277fbdf44aea9d53ebe6e256dbc4": {
          "model_module": "@jupyter-widgets/base",
          "model_name": "LayoutModel",
          "model_module_version": "1.2.0",
          "state": {
            "_model_module": "@jupyter-widgets/base",
            "_model_module_version": "1.2.0",
            "_model_name": "LayoutModel",
            "_view_count": null,
            "_view_module": "@jupyter-widgets/base",
            "_view_module_version": "1.2.0",
            "_view_name": "LayoutView",
            "align_content": null,
            "align_items": null,
            "align_self": null,
            "border": null,
            "bottom": null,
            "display": null,
            "flex": null,
            "flex_flow": null,
            "grid_area": null,
            "grid_auto_columns": null,
            "grid_auto_flow": null,
            "grid_auto_rows": null,
            "grid_column": null,
            "grid_gap": null,
            "grid_row": null,
            "grid_template_areas": null,
            "grid_template_columns": null,
            "grid_template_rows": null,
            "height": null,
            "justify_content": null,
            "justify_items": null,
            "left": null,
            "margin": null,
            "max_height": null,
            "max_width": null,
            "min_height": null,
            "min_width": null,
            "object_fit": null,
            "object_position": null,
            "order": null,
            "overflow": null,
            "overflow_x": null,
            "overflow_y": null,
            "padding": null,
            "right": null,
            "top": null,
            "visibility": null,
            "width": null
          }
        },
        "411acea9a4bd403484f4808f08dd9ca9": {
          "model_module": "@jupyter-widgets/base",
          "model_name": "LayoutModel",
          "model_module_version": "1.2.0",
          "state": {
            "_model_module": "@jupyter-widgets/base",
            "_model_module_version": "1.2.0",
            "_model_name": "LayoutModel",
            "_view_count": null,
            "_view_module": "@jupyter-widgets/base",
            "_view_module_version": "1.2.0",
            "_view_name": "LayoutView",
            "align_content": null,
            "align_items": null,
            "align_self": null,
            "border": null,
            "bottom": null,
            "display": null,
            "flex": null,
            "flex_flow": null,
            "grid_area": null,
            "grid_auto_columns": null,
            "grid_auto_flow": null,
            "grid_auto_rows": null,
            "grid_column": null,
            "grid_gap": null,
            "grid_row": null,
            "grid_template_areas": null,
            "grid_template_columns": null,
            "grid_template_rows": null,
            "height": null,
            "justify_content": null,
            "justify_items": null,
            "left": null,
            "margin": null,
            "max_height": null,
            "max_width": null,
            "min_height": null,
            "min_width": null,
            "object_fit": null,
            "object_position": null,
            "order": null,
            "overflow": null,
            "overflow_x": null,
            "overflow_y": null,
            "padding": null,
            "right": null,
            "top": null,
            "visibility": null,
            "width": null
          }
        },
        "aed70ffd93824ce7bdd135bdb3d44968": {
          "model_module": "@jupyter-widgets/controls",
          "model_name": "DescriptionStyleModel",
          "model_module_version": "1.5.0",
          "state": {
            "_model_module": "@jupyter-widgets/controls",
            "_model_module_version": "1.5.0",
            "_model_name": "DescriptionStyleModel",
            "_view_count": null,
            "_view_module": "@jupyter-widgets/base",
            "_view_module_version": "1.2.0",
            "_view_name": "StyleView",
            "description_width": ""
          }
        },
        "64b4c8209ac44e1ba0b0612bd4f14f3d": {
          "model_module": "@jupyter-widgets/base",
          "model_name": "LayoutModel",
          "model_module_version": "1.2.0",
          "state": {
            "_model_module": "@jupyter-widgets/base",
            "_model_module_version": "1.2.0",
            "_model_name": "LayoutModel",
            "_view_count": null,
            "_view_module": "@jupyter-widgets/base",
            "_view_module_version": "1.2.0",
            "_view_name": "LayoutView",
            "align_content": null,
            "align_items": null,
            "align_self": null,
            "border": null,
            "bottom": null,
            "display": null,
            "flex": null,
            "flex_flow": null,
            "grid_area": null,
            "grid_auto_columns": null,
            "grid_auto_flow": null,
            "grid_auto_rows": null,
            "grid_column": null,
            "grid_gap": null,
            "grid_row": null,
            "grid_template_areas": null,
            "grid_template_columns": null,
            "grid_template_rows": null,
            "height": null,
            "justify_content": null,
            "justify_items": null,
            "left": null,
            "margin": null,
            "max_height": null,
            "max_width": null,
            "min_height": null,
            "min_width": null,
            "object_fit": null,
            "object_position": null,
            "order": null,
            "overflow": null,
            "overflow_x": null,
            "overflow_y": null,
            "padding": null,
            "right": null,
            "top": null,
            "visibility": null,
            "width": null
          }
        },
        "c7835a124fb04a4aa99d4ac6b0bd5913": {
          "model_module": "@jupyter-widgets/controls",
          "model_name": "DescriptionStyleModel",
          "model_module_version": "1.5.0",
          "state": {
            "_model_module": "@jupyter-widgets/controls",
            "_model_module_version": "1.5.0",
            "_model_name": "DescriptionStyleModel",
            "_view_count": null,
            "_view_module": "@jupyter-widgets/base",
            "_view_module_version": "1.2.0",
            "_view_name": "StyleView",
            "description_width": ""
          }
        },
        "6a1ca393b8134726801b690862bf6bac": {
          "model_module": "@jupyter-widgets/base",
          "model_name": "LayoutModel",
          "model_module_version": "1.2.0",
          "state": {
            "_model_module": "@jupyter-widgets/base",
            "_model_module_version": "1.2.0",
            "_model_name": "LayoutModel",
            "_view_count": null,
            "_view_module": "@jupyter-widgets/base",
            "_view_module_version": "1.2.0",
            "_view_name": "LayoutView",
            "align_content": null,
            "align_items": null,
            "align_self": null,
            "border": null,
            "bottom": null,
            "display": null,
            "flex": null,
            "flex_flow": null,
            "grid_area": null,
            "grid_auto_columns": null,
            "grid_auto_flow": null,
            "grid_auto_rows": null,
            "grid_column": null,
            "grid_gap": null,
            "grid_row": null,
            "grid_template_areas": null,
            "grid_template_columns": null,
            "grid_template_rows": null,
            "height": null,
            "justify_content": null,
            "justify_items": null,
            "left": null,
            "margin": null,
            "max_height": null,
            "max_width": null,
            "min_height": null,
            "min_width": null,
            "object_fit": null,
            "object_position": null,
            "order": null,
            "overflow": null,
            "overflow_x": null,
            "overflow_y": null,
            "padding": null,
            "right": null,
            "top": null,
            "visibility": null,
            "width": null
          }
        }
      }
    }
  },
  "cells": [
    {
      "cell_type": "markdown",
      "metadata": {
        "id": "view-in-github",
        "colab_type": "text"
      },
      "source": [
        "<a href=\"https://colab.research.google.com/github/ArdeshirB/DMML/blob/main/AU-Map-Cust-Complaints.ipynb\" target=\"_parent\"><img src=\"https://colab.research.google.com/assets/colab-badge.svg\" alt=\"Open In Colab\"/></a>"
      ]
    },
    {
      "cell_type": "code",
      "execution_count": 1,
      "metadata": {
        "colab": {
          "base_uri": "https://localhost:8080/",
          "height": 1000,
          "referenced_widgets": [
            "ac4b3017048742888231c426064390e5",
            "f8f88a3a537341da921954c414ae9514",
            "ad9f9e24f3214f5e8b37ed3c746ae5a7",
            "9283790eca9541deadd6f33e91b1ecef",
            "8d7b277fbdf44aea9d53ebe6e256dbc4",
            "411acea9a4bd403484f4808f08dd9ca9",
            "aed70ffd93824ce7bdd135bdb3d44968",
            "64b4c8209ac44e1ba0b0612bd4f14f3d",
            "c7835a124fb04a4aa99d4ac6b0bd5913",
            "6a1ca393b8134726801b690862bf6bac"
          ]
        },
        "id": "prAs_PEA21qY",
        "outputId": "5ecd39ef-1d36-49e4-c6ed-0e5e79007174"
      },
      "outputs": [
        {
          "output_type": "display_data",
          "data": {
            "text/plain": [
              "interactive(children=(Select(description='date_filter', options=(44963, 44964, 44978, 44979, 44981, 44982, 449…"
            ],
            "application/vnd.jupyter.widget-view+json": {
              "version_major": 2,
              "version_minor": 0,
              "model_id": "ac4b3017048742888231c426064390e5"
            }
          },
          "metadata": {}
        },
        {
          "output_type": "execute_result",
          "data": {
            "text/plain": [
              "<function __main__.plot_map(date_filter, complaint_filter)>"
            ]
          },
          "metadata": {},
          "execution_count": 1
        }
      ],
      "source": []
    }
  ]
}